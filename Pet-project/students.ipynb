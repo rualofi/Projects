{
 "cells": [
  {
   "cell_type": "markdown",
   "id": "4e91e4b8-7d84-4f85-8179-5d06c4715e14",
   "metadata": {},
   "source": [
    "## Цели исследования"
   ]
  },
  {
   "cell_type": "markdown",
   "id": "ddf109bb-4eeb-4d60-88ae-d778b47a10f5",
   "metadata": {},
   "source": [
    "В качестве задач на данное исследование ставлю:\n",
    "1. Выяснить есть ли зависимость между полом ребенка и его оценками, внешкольной деятельностью\n",
    "2. Влияет ли родительская поддержка на успеваемость\n",
    "3. Есть ли связь между уровнем посещения и часов занятий в неделю на успеваемость"
   ]
  },
  {
   "cell_type": "markdown",
   "id": "313921a5-c1fd-4572-b4f3-7888903fcdd2",
   "metadata": {},
   "source": [
    "## Подключение библиотек"
   ]
  },
  {
   "cell_type": "code",
   "execution_count": 4,
   "id": "8cc2cb73-4c5a-42de-84c5-8e1e3b1cbfe6",
   "metadata": {},
   "outputs": [],
   "source": [
    "import pandas as pd\n",
    "import seaborn as sns\n",
    "import matplotlib.pyplot as plt"
   ]
  },
  {
   "cell_type": "markdown",
   "id": "c4f00937-bb8a-4943-82c9-22e98303f16d",
   "metadata": {},
   "source": [
    "## Подключение к базе данных"
   ]
  },
  {
   "cell_type": "code",
   "execution_count": 6,
   "id": "a3ecc358-f124-489c-b584-13904763c790",
   "metadata": {},
   "outputs": [
    {
     "name": "stdout",
     "output_type": "stream",
     "text": [
      "<class 'pandas.core.frame.DataFrame'>\n",
      "RangeIndex: 10 entries, 0 to 9\n",
      "Data columns (total 9 columns):\n",
      " #   Column                     Non-Null Count  Dtype \n",
      "---  ------                     --------------  ----- \n",
      " 0   StudentID                  10 non-null     int64 \n",
      " 1   Name                       10 non-null     object\n",
      " 2   Gender                     10 non-null     object\n",
      " 3   AttendanceRate             10 non-null     int64 \n",
      " 4   StudyHoursPerWeek          10 non-null     int64 \n",
      " 5   PreviousGrade              10 non-null     int64 \n",
      " 6   ExtracurricularActivities  10 non-null     int64 \n",
      " 7   ParentalSupport            10 non-null     object\n",
      " 8   FinalGrade                 10 non-null     int64 \n",
      "dtypes: int64(6), object(3)\n",
      "memory usage: 852.0+ bytes\n"
     ]
    }
   ],
   "source": [
    "df = pd.read_csv('student_performance.csv')\n",
    "df.info()"
   ]
  },
  {
   "cell_type": "markdown",
   "id": "3293ca70-bc4a-4707-8254-13404854ab2e",
   "metadata": {},
   "source": [
    "Изучив информацию о датафрейме можно сделать вывод об отсутствии пропусков и необходимости изменения названий столбцов для удобства дальнейшей работы с базой данных."
   ]
  },
  {
   "cell_type": "markdown",
   "id": "21955ac4-bf94-4972-acb0-92467e56b026",
   "metadata": {},
   "source": [
    "## Предобработка данных"
   ]
  },
  {
   "cell_type": "markdown",
   "id": "1fb73334-3475-4645-ae02-4bf9bb5b7b84",
   "metadata": {},
   "source": [
    "### Переименование столбцов"
   ]
  },
  {
   "cell_type": "code",
   "execution_count": 10,
   "id": "c06b7095-56e3-4387-8d0f-a543a5fffe99",
   "metadata": {},
   "outputs": [
    {
     "data": {
      "text/plain": [
       "Index(['studentid', 'name', 'gender', 'attendancerate', 'studyhoursperweek',\n",
       "       'previousgrade', 'extracurricularactivities', 'parentalsupport',\n",
       "       'finalgrade'],\n",
       "      dtype='object')"
      ]
     },
     "execution_count": 10,
     "metadata": {},
     "output_type": "execute_result"
    }
   ],
   "source": [
    "df.columns = df.columns.str.lower()\n",
    "df.columns"
   ]
  },
  {
   "cell_type": "code",
   "execution_count": 11,
   "id": "663604df-83f7-4dba-a2e1-10cc3bb750cd",
   "metadata": {},
   "outputs": [
    {
     "data": {
      "text/plain": [
       "Index(['student_id', 'name', 'gender', 'attendance_rate',\n",
       "       'study_hours_per_week', 'previous_grade', 'extracurricular_activities',\n",
       "       'parental_support', 'final_grade'],\n",
       "      dtype='object')"
      ]
     },
     "execution_count": 11,
     "metadata": {},
     "output_type": "execute_result"
    }
   ],
   "source": [
    "df = df.rename(columns = {'studentid':'student_id', 'attendancerate':'attendance_rate','studyhoursperweek':'study_hours_per_week','previousgrade':'previous_grade',\n",
    "                         'extracurricularactivities':'extracurricular_activities','parentalsupport':'parental_support','finalgrade':'final_grade'})\n",
    "df.columns"
   ]
  },
  {
   "cell_type": "markdown",
   "id": "4b53f1dd-9450-4849-bbbb-511d5277f343",
   "metadata": {},
   "source": [
    "### Проверка соответствия типов данных"
   ]
  },
  {
   "cell_type": "code",
   "execution_count": 13,
   "id": "2d65bdc1-46c6-4750-92d9-263380f570a1",
   "metadata": {},
   "outputs": [
    {
     "data": {
      "text/html": [
       "<div>\n",
       "<style scoped>\n",
       "    .dataframe tbody tr th:only-of-type {\n",
       "        vertical-align: middle;\n",
       "    }\n",
       "\n",
       "    .dataframe tbody tr th {\n",
       "        vertical-align: top;\n",
       "    }\n",
       "\n",
       "    .dataframe thead th {\n",
       "        text-align: right;\n",
       "    }\n",
       "</style>\n",
       "<table border=\"1\" class=\"dataframe\">\n",
       "  <thead>\n",
       "    <tr style=\"text-align: right;\">\n",
       "      <th></th>\n",
       "      <th>student_id</th>\n",
       "      <th>name</th>\n",
       "      <th>gender</th>\n",
       "      <th>attendance_rate</th>\n",
       "      <th>study_hours_per_week</th>\n",
       "      <th>previous_grade</th>\n",
       "      <th>extracurricular_activities</th>\n",
       "      <th>parental_support</th>\n",
       "      <th>final_grade</th>\n",
       "    </tr>\n",
       "  </thead>\n",
       "  <tbody>\n",
       "    <tr>\n",
       "      <th>0</th>\n",
       "      <td>1</td>\n",
       "      <td>John</td>\n",
       "      <td>Male</td>\n",
       "      <td>85</td>\n",
       "      <td>15</td>\n",
       "      <td>78</td>\n",
       "      <td>1</td>\n",
       "      <td>High</td>\n",
       "      <td>80</td>\n",
       "    </tr>\n",
       "    <tr>\n",
       "      <th>1</th>\n",
       "      <td>2</td>\n",
       "      <td>Sarah</td>\n",
       "      <td>Female</td>\n",
       "      <td>90</td>\n",
       "      <td>20</td>\n",
       "      <td>85</td>\n",
       "      <td>2</td>\n",
       "      <td>Medium</td>\n",
       "      <td>87</td>\n",
       "    </tr>\n",
       "    <tr>\n",
       "      <th>2</th>\n",
       "      <td>3</td>\n",
       "      <td>Alex</td>\n",
       "      <td>Male</td>\n",
       "      <td>78</td>\n",
       "      <td>10</td>\n",
       "      <td>65</td>\n",
       "      <td>0</td>\n",
       "      <td>Low</td>\n",
       "      <td>68</td>\n",
       "    </tr>\n",
       "    <tr>\n",
       "      <th>3</th>\n",
       "      <td>4</td>\n",
       "      <td>Michael</td>\n",
       "      <td>Male</td>\n",
       "      <td>92</td>\n",
       "      <td>25</td>\n",
       "      <td>90</td>\n",
       "      <td>3</td>\n",
       "      <td>High</td>\n",
       "      <td>92</td>\n",
       "    </tr>\n",
       "    <tr>\n",
       "      <th>4</th>\n",
       "      <td>5</td>\n",
       "      <td>Emma</td>\n",
       "      <td>Female</td>\n",
       "      <td>88</td>\n",
       "      <td>18</td>\n",
       "      <td>82</td>\n",
       "      <td>2</td>\n",
       "      <td>Medium</td>\n",
       "      <td>85</td>\n",
       "    </tr>\n",
       "  </tbody>\n",
       "</table>\n",
       "</div>"
      ],
      "text/plain": [
       "   student_id     name  gender  attendance_rate  study_hours_per_week  \\\n",
       "0           1     John    Male               85                    15   \n",
       "1           2    Sarah  Female               90                    20   \n",
       "2           3     Alex    Male               78                    10   \n",
       "3           4  Michael    Male               92                    25   \n",
       "4           5     Emma  Female               88                    18   \n",
       "\n",
       "   previous_grade  extracurricular_activities parental_support  final_grade  \n",
       "0              78                           1             High           80  \n",
       "1              85                           2           Medium           87  \n",
       "2              65                           0              Low           68  \n",
       "3              90                           3             High           92  \n",
       "4              82                           2           Medium           85  "
      ]
     },
     "execution_count": 13,
     "metadata": {},
     "output_type": "execute_result"
    }
   ],
   "source": [
    "df.head()"
   ]
  },
  {
   "cell_type": "markdown",
   "id": "5e341f85-000c-4c17-9ba5-44966aff03fe",
   "metadata": {},
   "source": [
    "После ознакомления с данными в таблице, становится понятно, что типы данных соответствуют."
   ]
  },
  {
   "cell_type": "markdown",
   "id": "d6f99c8c-9bdf-4ce1-a34b-9ffca25c2fe0",
   "metadata": {},
   "source": [
    "### Поиск дубликатов"
   ]
  },
  {
   "cell_type": "markdown",
   "id": "e3cfc6bf-a441-4cf3-91ba-280d5f0ba059",
   "metadata": {},
   "source": [
    "#### Поиск явных дубликатов"
   ]
  },
  {
   "cell_type": "code",
   "execution_count": 17,
   "id": "e534e2c8-1cf6-4ac7-a535-57f00b28950c",
   "metadata": {},
   "outputs": [
    {
     "data": {
      "text/plain": [
       "0"
      ]
     },
     "execution_count": 17,
     "metadata": {},
     "output_type": "execute_result"
    }
   ],
   "source": [
    "df.duplicated().sum()"
   ]
  },
  {
   "cell_type": "markdown",
   "id": "08179b2e-ffd5-44e4-b9dc-beb787a2e289",
   "metadata": {},
   "source": [
    "Явные дубликаты отсутствуют"
   ]
  },
  {
   "cell_type": "markdown",
   "id": "e623cbab-8229-4418-a851-71c4884dc0ad",
   "metadata": {},
   "source": [
    "#### Проверка неяыных дубликатов"
   ]
  },
  {
   "cell_type": "code",
   "execution_count": 20,
   "id": "250efe14-3645-4025-8c4b-2dab2421c614",
   "metadata": {},
   "outputs": [
    {
     "data": {
      "text/plain": [
       "array(['John', 'Sarah', 'Alex', 'Michael', 'Emma', 'Olivia', 'Daniel',\n",
       "       'Sophia', 'James', 'Isabella'], dtype=object)"
      ]
     },
     "execution_count": 20,
     "metadata": {},
     "output_type": "execute_result"
    }
   ],
   "source": [
    "df['name'].unique()"
   ]
  },
  {
   "cell_type": "markdown",
   "id": "573285e9-6ff9-4e4b-8ea9-dc68e38cf0d0",
   "metadata": {},
   "source": [
    "Неявные дубликаты отсутствуют."
   ]
  },
  {
   "cell_type": "markdown",
   "id": "90f9357c-fdc4-4ad2-b3ab-0911caa71396",
   "metadata": {},
   "source": [
    "### Мониторинг выбросов"
   ]
  },
  {
   "cell_type": "code",
   "execution_count": 68,
   "id": "5b06a555-5ef3-4b27-a4e9-6ca493758d19",
   "metadata": {},
   "outputs": [
    {
     "data": {
      "image/png": "[encoded data removed]",
      "text/plain": [
       "<Figure size 800x800 with 64 Axes>"
      ]
     },
     "metadata": {},
     "output_type": "display_data"
    }
   ],
   "source": [
    "pd.plotting.scatter_matrix(df, alpha=1, figsize=(8, 8))\n",
    "plt.show()"
   ]
  },
  {
   "cell_type": "markdown",
   "id": "5a1c6547-bf46-4958-8d8b-fe09079c0168",
   "metadata": {},
   "source": [
    "Матрица рассеивания показывает отсутвие явных выбросов, а также сразу показывает наличие положительных корреляций между некоторыми величинами,\n",
    "которые мы проследим позже."
   ]
  },
  {
   "cell_type": "markdown",
   "id": "a7af8057-56b9-4057-b977-7f610e8b287f",
   "metadata": {},
   "source": [
    "## Исследовательский анализ"
   ]
  },
  {
   "cell_type": "markdown",
   "id": "c13f986e-9025-4c18-a4cf-4b19fd8e25a0",
   "metadata": {},
   "source": [
    "### Корреляция предыдущих и финальных оценок"
   ]
  },
  {
   "cell_type": "code",
   "execution_count": 27,
   "id": "03e1a588-6ace-4874-bec8-bf48bcf90726",
   "metadata": {},
   "outputs": [
    {
     "name": "stdout",
     "output_type": "stream",
     "text": [
      "0.9984570049735788\n"
     ]
    }
   ],
   "source": [
    "print(df['final_grade'].corr(df['previous_grade']))"
   ]
  },
  {
   "cell_type": "markdown",
   "id": "79df73bd-4ade-4878-a547-9c179c5a3f91",
   "metadata": {},
   "source": [
    "Все ученики улучшили свои результаты."
   ]
  },
  {
   "cell_type": "markdown",
   "id": "f51d5694-d866-4395-90ad-84a5537baafa",
   "metadata": {},
   "source": [
    "### Изучение связи между гендером и успеваемостью"
   ]
  },
  {
   "cell_type": "code",
   "execution_count": 30,
   "id": "cd0acd10-a6f1-4b1c-835e-897bfd192b1a",
   "metadata": {},
   "outputs": [
    {
     "data": {
      "text/html": [
       "<div>\n",
       "<style scoped>\n",
       "    .dataframe tbody tr th:only-of-type {\n",
       "        vertical-align: middle;\n",
       "    }\n",
       "\n",
       "    .dataframe tbody tr th {\n",
       "        vertical-align: top;\n",
       "    }\n",
       "\n",
       "    .dataframe thead tr th {\n",
       "        text-align: left;\n",
       "    }\n",
       "\n",
       "    .dataframe thead tr:last-of-type th {\n",
       "        text-align: right;\n",
       "    }\n",
       "</style>\n",
       "<table border=\"1\" class=\"dataframe\">\n",
       "  <thead>\n",
       "    <tr>\n",
       "      <th></th>\n",
       "      <th colspan=\"16\" halign=\"left\">describe</th>\n",
       "    </tr>\n",
       "    <tr>\n",
       "      <th></th>\n",
       "      <th colspan=\"8\" halign=\"left\">final_grade</th>\n",
       "      <th colspan=\"8\" halign=\"left\">previous_grade</th>\n",
       "    </tr>\n",
       "    <tr>\n",
       "      <th></th>\n",
       "      <th>25%</th>\n",
       "      <th>50%</th>\n",
       "      <th>75%</th>\n",
       "      <th>count</th>\n",
       "      <th>max</th>\n",
       "      <th>mean</th>\n",
       "      <th>min</th>\n",
       "      <th>std</th>\n",
       "      <th>25%</th>\n",
       "      <th>50%</th>\n",
       "      <th>75%</th>\n",
       "      <th>count</th>\n",
       "      <th>max</th>\n",
       "      <th>mean</th>\n",
       "      <th>min</th>\n",
       "      <th>std</th>\n",
       "    </tr>\n",
       "    <tr>\n",
       "      <th>gender</th>\n",
       "      <th></th>\n",
       "      <th></th>\n",
       "      <th></th>\n",
       "      <th></th>\n",
       "      <th></th>\n",
       "      <th></th>\n",
       "      <th></th>\n",
       "      <th></th>\n",
       "      <th></th>\n",
       "      <th></th>\n",
       "      <th></th>\n",
       "      <th></th>\n",
       "      <th></th>\n",
       "      <th></th>\n",
       "      <th></th>\n",
       "      <th></th>\n",
       "    </tr>\n",
       "  </thead>\n",
       "  <tbody>\n",
       "    <tr>\n",
       "      <th>Female</th>\n",
       "      <td>85.0</td>\n",
       "      <td>87.0</td>\n",
       "      <td>88.0</td>\n",
       "      <td>5.0</td>\n",
       "      <td>90.0</td>\n",
       "      <td>85.6</td>\n",
       "      <td>78.0</td>\n",
       "      <td>4.615192</td>\n",
       "      <td>82.0</td>\n",
       "      <td>85.0</td>\n",
       "      <td>86.0</td>\n",
       "      <td>5.0</td>\n",
       "      <td>88.0</td>\n",
       "      <td>83.6</td>\n",
       "      <td>77.0</td>\n",
       "      <td>4.277850</td>\n",
       "    </tr>\n",
       "    <tr>\n",
       "      <th>Male</th>\n",
       "      <td>68.0</td>\n",
       "      <td>72.0</td>\n",
       "      <td>80.0</td>\n",
       "      <td>5.0</td>\n",
       "      <td>92.0</td>\n",
       "      <td>74.8</td>\n",
       "      <td>62.0</td>\n",
       "      <td>11.627553</td>\n",
       "      <td>65.0</td>\n",
       "      <td>70.0</td>\n",
       "      <td>78.0</td>\n",
       "      <td>5.0</td>\n",
       "      <td>90.0</td>\n",
       "      <td>72.6</td>\n",
       "      <td>60.0</td>\n",
       "      <td>11.781341</td>\n",
       "    </tr>\n",
       "  </tbody>\n",
       "</table>\n",
       "</div>"
      ],
      "text/plain": [
       "          describe                                                 \\\n",
       "       final_grade                                                  \n",
       "               25%   50%   75% count   max  mean   min        std   \n",
       "gender                                                              \n",
       "Female        85.0  87.0  88.0   5.0  90.0  85.6  78.0   4.615192   \n",
       "Male          68.0  72.0  80.0   5.0  92.0  74.8  62.0  11.627553   \n",
       "\n",
       "                                                                      \n",
       "       previous_grade                                                 \n",
       "                  25%   50%   75% count   max  mean   min        std  \n",
       "gender                                                                \n",
       "Female           82.0  85.0  86.0   5.0  88.0  83.6  77.0   4.277850  \n",
       "Male             65.0  70.0  78.0   5.0  90.0  72.6  60.0  11.781341  "
      ]
     },
     "execution_count": 30,
     "metadata": {},
     "output_type": "execute_result"
    }
   ],
   "source": [
    "df.pivot_table(index = 'gender', values = ['previous_grade', 'final_grade'], aggfunc = ['describe']) "
   ]
  },
  {
   "cell_type": "markdown",
   "id": "e0b92e24-99b8-442c-8a07-340b6aad2c95",
   "metadata": {},
   "source": [
    "В данных описываются разнополые школьники в одинаковом количестве, притом заметна разница в средней оценке: у девочек она выше при том наивысший балл как был, так и остался у мальчика. Исходя из этого можно сделать вывод, что девочки в данной выборке учатся лучше чем мальчики, но это не может свидетельствовать о лучших успехах у девочек, так как наивысший балл принадлежит мальчику."
   ]
  },
  {
   "cell_type": "markdown",
   "id": "62fbcd02-16a3-4539-a5d4-6e7b0b00ea4c",
   "metadata": {},
   "source": [
    "### Рассмотрение количества внеклассовых занятий по гендерам"
   ]
  },
  {
   "cell_type": "code",
   "execution_count": 33,
   "id": "b502b83f-4037-4beb-a0f0-935e970666e7",
   "metadata": {},
   "outputs": [
    {
     "data": {
      "image/png": "[encoded data removed]",
      "text/plain": [
       "<Figure size 640x480 with 1 Axes>"
      ]
     },
     "metadata": {},
     "output_type": "display_data"
    }
   ],
   "source": [
    "df.groupby('gender')['extracurricular_activities'].sum().plot(kind = 'pie')\n",
    "plt.show()"
   ]
  },
  {
   "cell_type": "markdown",
   "id": "bff8d297-514e-4b94-bec7-6697d0a0f4cc",
   "metadata": {},
   "source": [
    "Данный график показывает, что большее число девочек занято внеклассными занятиями.\n"
   ]
  },
  {
   "cell_type": "markdown",
   "id": "473405d5-bc7d-4280-a1a5-adc502b8126a",
   "metadata": {},
   "source": [
    "### Изучение влияния родительской поддержки"
   ]
  },
  {
   "cell_type": "code",
   "execution_count": 36,
   "id": "58e56820-2f72-4226-905e-7450bff43fe4",
   "metadata": {},
   "outputs": [
    {
     "data": {
      "text/plain": [
       "parental_support\n",
       "High      4\n",
       "Medium    3\n",
       "Low       3\n",
       "Name: count, dtype: int64"
      ]
     },
     "execution_count": 36,
     "metadata": {},
     "output_type": "execute_result"
    }
   ],
   "source": [
    "df['parental_support'].value_counts()"
   ]
  },
  {
   "cell_type": "code",
   "execution_count": 37,
   "id": "2a875d10-f4ed-4301-b771-042afabf4588",
   "metadata": {},
   "outputs": [
    {
     "data": {
      "text/html": [
       "<div>\n",
       "<style scoped>\n",
       "    .dataframe tbody tr th:only-of-type {\n",
       "        vertical-align: middle;\n",
       "    }\n",
       "\n",
       "    .dataframe tbody tr th {\n",
       "        vertical-align: top;\n",
       "    }\n",
       "\n",
       "    .dataframe thead tr th {\n",
       "        text-align: left;\n",
       "    }\n",
       "\n",
       "    .dataframe thead tr:last-of-type th {\n",
       "        text-align: right;\n",
       "    }\n",
       "</style>\n",
       "<table border=\"1\" class=\"dataframe\">\n",
       "  <thead>\n",
       "    <tr>\n",
       "      <th></th>\n",
       "      <th colspan=\"8\" halign=\"left\">final_grade</th>\n",
       "      <th colspan=\"8\" halign=\"left\">previous_grade</th>\n",
       "    </tr>\n",
       "    <tr>\n",
       "      <th></th>\n",
       "      <th>25%</th>\n",
       "      <th>50%</th>\n",
       "      <th>75%</th>\n",
       "      <th>count</th>\n",
       "      <th>max</th>\n",
       "      <th>mean</th>\n",
       "      <th>min</th>\n",
       "      <th>std</th>\n",
       "      <th>25%</th>\n",
       "      <th>50%</th>\n",
       "      <th>75%</th>\n",
       "      <th>count</th>\n",
       "      <th>max</th>\n",
       "      <th>mean</th>\n",
       "      <th>min</th>\n",
       "      <th>std</th>\n",
       "    </tr>\n",
       "    <tr>\n",
       "      <th>parental_support</th>\n",
       "      <th></th>\n",
       "      <th></th>\n",
       "      <th></th>\n",
       "      <th></th>\n",
       "      <th></th>\n",
       "      <th></th>\n",
       "      <th></th>\n",
       "      <th></th>\n",
       "      <th></th>\n",
       "      <th></th>\n",
       "      <th></th>\n",
       "      <th></th>\n",
       "      <th></th>\n",
       "      <th></th>\n",
       "      <th></th>\n",
       "      <th></th>\n",
       "    </tr>\n",
       "  </thead>\n",
       "  <tbody>\n",
       "    <tr>\n",
       "      <th>High</th>\n",
       "      <td>86.0</td>\n",
       "      <td>89.0</td>\n",
       "      <td>90.5</td>\n",
       "      <td>4.0</td>\n",
       "      <td>92.0</td>\n",
       "      <td>87.500000</td>\n",
       "      <td>80.0</td>\n",
       "      <td>5.259911</td>\n",
       "      <td>84.0</td>\n",
       "      <td>87.0</td>\n",
       "      <td>88.5</td>\n",
       "      <td>4.0</td>\n",
       "      <td>90.0</td>\n",
       "      <td>85.500000</td>\n",
       "      <td>78.0</td>\n",
       "      <td>5.259911</td>\n",
       "    </tr>\n",
       "    <tr>\n",
       "      <th>Low</th>\n",
       "      <td>65.0</td>\n",
       "      <td>68.0</td>\n",
       "      <td>70.0</td>\n",
       "      <td>3.0</td>\n",
       "      <td>72.0</td>\n",
       "      <td>67.333333</td>\n",
       "      <td>62.0</td>\n",
       "      <td>5.033223</td>\n",
       "      <td>62.5</td>\n",
       "      <td>65.0</td>\n",
       "      <td>67.5</td>\n",
       "      <td>3.0</td>\n",
       "      <td>70.0</td>\n",
       "      <td>65.000000</td>\n",
       "      <td>60.0</td>\n",
       "      <td>5.000000</td>\n",
       "    </tr>\n",
       "    <tr>\n",
       "      <th>Medium</th>\n",
       "      <td>81.5</td>\n",
       "      <td>85.0</td>\n",
       "      <td>86.0</td>\n",
       "      <td>3.0</td>\n",
       "      <td>87.0</td>\n",
       "      <td>83.333333</td>\n",
       "      <td>78.0</td>\n",
       "      <td>4.725816</td>\n",
       "      <td>79.5</td>\n",
       "      <td>82.0</td>\n",
       "      <td>83.5</td>\n",
       "      <td>3.0</td>\n",
       "      <td>85.0</td>\n",
       "      <td>81.333333</td>\n",
       "      <td>77.0</td>\n",
       "      <td>4.041452</td>\n",
       "    </tr>\n",
       "  </tbody>\n",
       "</table>\n",
       "</div>"
      ],
      "text/plain": [
       "                 final_grade                                           \\\n",
       "                         25%   50%   75% count   max       mean   min   \n",
       "parental_support                                                        \n",
       "High                    86.0  89.0  90.5   4.0  92.0  87.500000  80.0   \n",
       "Low                     65.0  68.0  70.0   3.0  72.0  67.333333  62.0   \n",
       "Medium                  81.5  85.0  86.0   3.0  87.0  83.333333  78.0   \n",
       "\n",
       "                           previous_grade                                     \\\n",
       "                       std            25%   50%   75% count   max       mean   \n",
       "parental_support                                                               \n",
       "High              5.259911           84.0  87.0  88.5   4.0  90.0  85.500000   \n",
       "Low               5.033223           62.5  65.0  67.5   3.0  70.0  65.000000   \n",
       "Medium            4.725816           79.5  82.0  83.5   3.0  85.0  81.333333   \n",
       "\n",
       "                                  \n",
       "                   min       std  \n",
       "parental_support                  \n",
       "High              78.0  5.259911  \n",
       "Low               60.0  5.000000  \n",
       "Medium            77.0  4.041452  "
      ]
     },
     "execution_count": 37,
     "metadata": {},
     "output_type": "execute_result"
    }
   ],
   "source": [
    "df.pivot_table(index = 'parental_support', values = ['previous_grade', 'final_grade'], aggfunc = 'describe')"
   ]
  },
  {
   "cell_type": "markdown",
   "id": "3cdc06fe-3cef-4974-b69c-96135e4bc24b",
   "metadata": {},
   "source": [
    "Можно сделать вывод, что родительская поддержка важна для детей, так как дети с низким уровнем демонстрируют результаты ниже, нежели остальные. При этом разница между детьми с выскоим и средним уровнем невелика, значит дети учатся с примерно одинаковым успехом."
   ]
  },
  {
   "cell_type": "markdown",
   "id": "cf5a1fa5-9dc5-4f21-9af1-4a5e97a47111",
   "metadata": {},
   "source": [
    "### Влияние посещаемости на успеваемость"
   ]
  },
  {
   "cell_type": "code",
   "execution_count": 40,
   "id": "8395a52c-4983-406d-bd8b-9e1c74d56fe8",
   "metadata": {},
   "outputs": [
    {
     "data": {
      "text/html": [
       "<div>\n",
       "<style scoped>\n",
       "    .dataframe tbody tr th:only-of-type {\n",
       "        vertical-align: middle;\n",
       "    }\n",
       "\n",
       "    .dataframe tbody tr th {\n",
       "        vertical-align: top;\n",
       "    }\n",
       "\n",
       "    .dataframe thead tr th {\n",
       "        text-align: left;\n",
       "    }\n",
       "\n",
       "    .dataframe thead tr:last-of-type th {\n",
       "        text-align: right;\n",
       "    }\n",
       "</style>\n",
       "<table border=\"1\" class=\"dataframe\">\n",
       "  <thead>\n",
       "    <tr>\n",
       "      <th></th>\n",
       "      <th></th>\n",
       "      <th colspan=\"7\" halign=\"left\">final_grade</th>\n",
       "      <th colspan=\"7\" halign=\"left\">previous_grade</th>\n",
       "    </tr>\n",
       "    <tr>\n",
       "      <th></th>\n",
       "      <th></th>\n",
       "      <th>25%</th>\n",
       "      <th>50%</th>\n",
       "      <th>75%</th>\n",
       "      <th>count</th>\n",
       "      <th>max</th>\n",
       "      <th>mean</th>\n",
       "      <th>min</th>\n",
       "      <th>25%</th>\n",
       "      <th>50%</th>\n",
       "      <th>75%</th>\n",
       "      <th>count</th>\n",
       "      <th>max</th>\n",
       "      <th>mean</th>\n",
       "      <th>min</th>\n",
       "    </tr>\n",
       "    <tr>\n",
       "      <th>attendance_rate</th>\n",
       "      <th>study_hours_per_week</th>\n",
       "      <th></th>\n",
       "      <th></th>\n",
       "      <th></th>\n",
       "      <th></th>\n",
       "      <th></th>\n",
       "      <th></th>\n",
       "      <th></th>\n",
       "      <th></th>\n",
       "      <th></th>\n",
       "      <th></th>\n",
       "      <th></th>\n",
       "      <th></th>\n",
       "      <th></th>\n",
       "      <th></th>\n",
       "    </tr>\n",
       "  </thead>\n",
       "  <tbody>\n",
       "    <tr>\n",
       "      <th>70</th>\n",
       "      <th>8</th>\n",
       "      <td>62.0</td>\n",
       "      <td>62.0</td>\n",
       "      <td>62.0</td>\n",
       "      <td>1.0</td>\n",
       "      <td>62.0</td>\n",
       "      <td>62.0</td>\n",
       "      <td>62.0</td>\n",
       "      <td>60.0</td>\n",
       "      <td>60.0</td>\n",
       "      <td>60.0</td>\n",
       "      <td>1.0</td>\n",
       "      <td>60.0</td>\n",
       "      <td>60.0</td>\n",
       "      <td>60.0</td>\n",
       "    </tr>\n",
       "    <tr>\n",
       "      <th>78</th>\n",
       "      <th>10</th>\n",
       "      <td>68.0</td>\n",
       "      <td>68.0</td>\n",
       "      <td>68.0</td>\n",
       "      <td>1.0</td>\n",
       "      <td>68.0</td>\n",
       "      <td>68.0</td>\n",
       "      <td>68.0</td>\n",
       "      <td>65.0</td>\n",
       "      <td>65.0</td>\n",
       "      <td>65.0</td>\n",
       "      <td>1.0</td>\n",
       "      <td>65.0</td>\n",
       "      <td>65.0</td>\n",
       "      <td>65.0</td>\n",
       "    </tr>\n",
       "    <tr>\n",
       "      <th>82</th>\n",
       "      <th>12</th>\n",
       "      <td>72.0</td>\n",
       "      <td>72.0</td>\n",
       "      <td>72.0</td>\n",
       "      <td>1.0</td>\n",
       "      <td>72.0</td>\n",
       "      <td>72.0</td>\n",
       "      <td>72.0</td>\n",
       "      <td>70.0</td>\n",
       "      <td>70.0</td>\n",
       "      <td>70.0</td>\n",
       "      <td>1.0</td>\n",
       "      <td>70.0</td>\n",
       "      <td>70.0</td>\n",
       "      <td>70.0</td>\n",
       "    </tr>\n",
       "    <tr>\n",
       "      <th rowspan=\"2\" valign=\"top\">85</th>\n",
       "      <th>15</th>\n",
       "      <td>80.0</td>\n",
       "      <td>80.0</td>\n",
       "      <td>80.0</td>\n",
       "      <td>1.0</td>\n",
       "      <td>80.0</td>\n",
       "      <td>80.0</td>\n",
       "      <td>80.0</td>\n",
       "      <td>78.0</td>\n",
       "      <td>78.0</td>\n",
       "      <td>78.0</td>\n",
       "      <td>1.0</td>\n",
       "      <td>78.0</td>\n",
       "      <td>78.0</td>\n",
       "      <td>78.0</td>\n",
       "    </tr>\n",
       "    <tr>\n",
       "      <th>17</th>\n",
       "      <td>78.0</td>\n",
       "      <td>78.0</td>\n",
       "      <td>78.0</td>\n",
       "      <td>1.0</td>\n",
       "      <td>78.0</td>\n",
       "      <td>78.0</td>\n",
       "      <td>78.0</td>\n",
       "      <td>77.0</td>\n",
       "      <td>77.0</td>\n",
       "      <td>77.0</td>\n",
       "      <td>1.0</td>\n",
       "      <td>77.0</td>\n",
       "      <td>77.0</td>\n",
       "      <td>77.0</td>\n",
       "    </tr>\n",
       "    <tr>\n",
       "      <th>88</th>\n",
       "      <th>18</th>\n",
       "      <td>85.0</td>\n",
       "      <td>85.0</td>\n",
       "      <td>85.0</td>\n",
       "      <td>1.0</td>\n",
       "      <td>85.0</td>\n",
       "      <td>85.0</td>\n",
       "      <td>85.0</td>\n",
       "      <td>82.0</td>\n",
       "      <td>82.0</td>\n",
       "      <td>82.0</td>\n",
       "      <td>1.0</td>\n",
       "      <td>82.0</td>\n",
       "      <td>82.0</td>\n",
       "      <td>82.0</td>\n",
       "    </tr>\n",
       "    <tr>\n",
       "      <th>90</th>\n",
       "      <th>20</th>\n",
       "      <td>87.0</td>\n",
       "      <td>87.0</td>\n",
       "      <td>87.0</td>\n",
       "      <td>1.0</td>\n",
       "      <td>87.0</td>\n",
       "      <td>87.0</td>\n",
       "      <td>87.0</td>\n",
       "      <td>85.0</td>\n",
       "      <td>85.0</td>\n",
       "      <td>85.0</td>\n",
       "      <td>1.0</td>\n",
       "      <td>85.0</td>\n",
       "      <td>85.0</td>\n",
       "      <td>85.0</td>\n",
       "    </tr>\n",
       "    <tr>\n",
       "      <th>91</th>\n",
       "      <th>22</th>\n",
       "      <td>88.0</td>\n",
       "      <td>88.0</td>\n",
       "      <td>88.0</td>\n",
       "      <td>1.0</td>\n",
       "      <td>88.0</td>\n",
       "      <td>88.0</td>\n",
       "      <td>88.0</td>\n",
       "      <td>86.0</td>\n",
       "      <td>86.0</td>\n",
       "      <td>86.0</td>\n",
       "      <td>1.0</td>\n",
       "      <td>86.0</td>\n",
       "      <td>86.0</td>\n",
       "      <td>86.0</td>\n",
       "    </tr>\n",
       "    <tr>\n",
       "      <th>92</th>\n",
       "      <th>25</th>\n",
       "      <td>92.0</td>\n",
       "      <td>92.0</td>\n",
       "      <td>92.0</td>\n",
       "      <td>1.0</td>\n",
       "      <td>92.0</td>\n",
       "      <td>92.0</td>\n",
       "      <td>92.0</td>\n",
       "      <td>90.0</td>\n",
       "      <td>90.0</td>\n",
       "      <td>90.0</td>\n",
       "      <td>1.0</td>\n",
       "      <td>90.0</td>\n",
       "      <td>90.0</td>\n",
       "      <td>90.0</td>\n",
       "    </tr>\n",
       "    <tr>\n",
       "      <th>95</th>\n",
       "      <th>30</th>\n",
       "      <td>90.0</td>\n",
       "      <td>90.0</td>\n",
       "      <td>90.0</td>\n",
       "      <td>1.0</td>\n",
       "      <td>90.0</td>\n",
       "      <td>90.0</td>\n",
       "      <td>90.0</td>\n",
       "      <td>88.0</td>\n",
       "      <td>88.0</td>\n",
       "      <td>88.0</td>\n",
       "      <td>1.0</td>\n",
       "      <td>88.0</td>\n",
       "      <td>88.0</td>\n",
       "      <td>88.0</td>\n",
       "    </tr>\n",
       "  </tbody>\n",
       "</table>\n",
       "</div>"
      ],
      "text/plain": [
       "                                     final_grade                          \\\n",
       "                                             25%   50%   75% count   max   \n",
       "attendance_rate study_hours_per_week                                       \n",
       "70              8                           62.0  62.0  62.0   1.0  62.0   \n",
       "78              10                          68.0  68.0  68.0   1.0  68.0   \n",
       "82              12                          72.0  72.0  72.0   1.0  72.0   \n",
       "85              15                          80.0  80.0  80.0   1.0  80.0   \n",
       "                17                          78.0  78.0  78.0   1.0  78.0   \n",
       "88              18                          85.0  85.0  85.0   1.0  85.0   \n",
       "90              20                          87.0  87.0  87.0   1.0  87.0   \n",
       "91              22                          88.0  88.0  88.0   1.0  88.0   \n",
       "92              25                          92.0  92.0  92.0   1.0  92.0   \n",
       "95              30                          90.0  90.0  90.0   1.0  90.0   \n",
       "\n",
       "                                                 previous_grade              \\\n",
       "                                      mean   min            25%   50%   75%   \n",
       "attendance_rate study_hours_per_week                                          \n",
       "70              8                     62.0  62.0           60.0  60.0  60.0   \n",
       "78              10                    68.0  68.0           65.0  65.0  65.0   \n",
       "82              12                    72.0  72.0           70.0  70.0  70.0   \n",
       "85              15                    80.0  80.0           78.0  78.0  78.0   \n",
       "                17                    78.0  78.0           77.0  77.0  77.0   \n",
       "88              18                    85.0  85.0           82.0  82.0  82.0   \n",
       "90              20                    87.0  87.0           85.0  85.0  85.0   \n",
       "91              22                    88.0  88.0           86.0  86.0  86.0   \n",
       "92              25                    92.0  92.0           90.0  90.0  90.0   \n",
       "95              30                    90.0  90.0           88.0  88.0  88.0   \n",
       "\n",
       "                                                              \n",
       "                                     count   max  mean   min  \n",
       "attendance_rate study_hours_per_week                          \n",
       "70              8                      1.0  60.0  60.0  60.0  \n",
       "78              10                     1.0  65.0  65.0  65.0  \n",
       "82              12                     1.0  70.0  70.0  70.0  \n",
       "85              15                     1.0  78.0  78.0  78.0  \n",
       "                17                     1.0  77.0  77.0  77.0  \n",
       "88              18                     1.0  82.0  82.0  82.0  \n",
       "90              20                     1.0  85.0  85.0  85.0  \n",
       "91              22                     1.0  86.0  86.0  86.0  \n",
       "92              25                     1.0  90.0  90.0  90.0  \n",
       "95              30                     1.0  88.0  88.0  88.0  "
      ]
     },
     "execution_count": 40,
     "metadata": {},
     "output_type": "execute_result"
    }
   ],
   "source": [
    "df.pivot_table(index= ['attendance_rate', 'study_hours_per_week'], values = ['previous_grade', 'final_grade'], aggfunc = 'describe')"
   ]
  },
  {
   "cell_type": "code",
   "execution_count": 41,
   "id": "d51d7702-b2c4-4896-92a6-2a42c2170c71",
   "metadata": {},
   "outputs": [],
   "source": [
    "df['avg_study_hours'] = df['attendance_rate'] * 0.01 * df['study_hours_per_week']\n",
    "df['avg_study_hours_group'] = pd.qcut(df['avg_study_hours'], 3, labels=False)\n"
   ]
  },
  {
   "cell_type": "code",
   "execution_count": 42,
   "id": "e1897616-7c7a-4321-bdf5-a513dc0574d6",
   "metadata": {},
   "outputs": [
    {
     "data": {
      "text/html": [
       "<div>\n",
       "<style scoped>\n",
       "    .dataframe tbody tr th:only-of-type {\n",
       "        vertical-align: middle;\n",
       "    }\n",
       "\n",
       "    .dataframe tbody tr th {\n",
       "        vertical-align: top;\n",
       "    }\n",
       "\n",
       "    .dataframe thead tr th {\n",
       "        text-align: left;\n",
       "    }\n",
       "\n",
       "    .dataframe thead tr:last-of-type th {\n",
       "        text-align: right;\n",
       "    }\n",
       "</style>\n",
       "<table border=\"1\" class=\"dataframe\">\n",
       "  <thead>\n",
       "    <tr>\n",
       "      <th></th>\n",
       "      <th colspan=\"8\" halign=\"left\">final_grade</th>\n",
       "      <th colspan=\"8\" halign=\"left\">previous_grade</th>\n",
       "    </tr>\n",
       "    <tr>\n",
       "      <th></th>\n",
       "      <th>25%</th>\n",
       "      <th>50%</th>\n",
       "      <th>75%</th>\n",
       "      <th>count</th>\n",
       "      <th>max</th>\n",
       "      <th>mean</th>\n",
       "      <th>min</th>\n",
       "      <th>std</th>\n",
       "      <th>25%</th>\n",
       "      <th>50%</th>\n",
       "      <th>75%</th>\n",
       "      <th>count</th>\n",
       "      <th>max</th>\n",
       "      <th>mean</th>\n",
       "      <th>min</th>\n",
       "      <th>std</th>\n",
       "    </tr>\n",
       "    <tr>\n",
       "      <th>avg_study_hours_group</th>\n",
       "      <th></th>\n",
       "      <th></th>\n",
       "      <th></th>\n",
       "      <th></th>\n",
       "      <th></th>\n",
       "      <th></th>\n",
       "      <th></th>\n",
       "      <th></th>\n",
       "      <th></th>\n",
       "      <th></th>\n",
       "      <th></th>\n",
       "      <th></th>\n",
       "      <th></th>\n",
       "      <th></th>\n",
       "      <th></th>\n",
       "      <th></th>\n",
       "    </tr>\n",
       "  </thead>\n",
       "  <tbody>\n",
       "    <tr>\n",
       "      <th>0</th>\n",
       "      <td>65.00</td>\n",
       "      <td>68.0</td>\n",
       "      <td>70.0</td>\n",
       "      <td>3.0</td>\n",
       "      <td>72.0</td>\n",
       "      <td>67.333333</td>\n",
       "      <td>62.0</td>\n",
       "      <td>5.033223</td>\n",
       "      <td>62.50</td>\n",
       "      <td>65.0</td>\n",
       "      <td>67.5</td>\n",
       "      <td>3.0</td>\n",
       "      <td>70.0</td>\n",
       "      <td>65.00</td>\n",
       "      <td>60.0</td>\n",
       "      <td>5.000000</td>\n",
       "    </tr>\n",
       "    <tr>\n",
       "      <th>1</th>\n",
       "      <td>79.00</td>\n",
       "      <td>80.0</td>\n",
       "      <td>82.5</td>\n",
       "      <td>3.0</td>\n",
       "      <td>85.0</td>\n",
       "      <td>81.000000</td>\n",
       "      <td>78.0</td>\n",
       "      <td>3.605551</td>\n",
       "      <td>77.50</td>\n",
       "      <td>78.0</td>\n",
       "      <td>80.0</td>\n",
       "      <td>3.0</td>\n",
       "      <td>82.0</td>\n",
       "      <td>79.00</td>\n",
       "      <td>77.0</td>\n",
       "      <td>2.645751</td>\n",
       "    </tr>\n",
       "    <tr>\n",
       "      <th>2</th>\n",
       "      <td>87.75</td>\n",
       "      <td>89.0</td>\n",
       "      <td>90.5</td>\n",
       "      <td>4.0</td>\n",
       "      <td>92.0</td>\n",
       "      <td>89.250000</td>\n",
       "      <td>87.0</td>\n",
       "      <td>2.217356</td>\n",
       "      <td>85.75</td>\n",
       "      <td>87.0</td>\n",
       "      <td>88.5</td>\n",
       "      <td>4.0</td>\n",
       "      <td>90.0</td>\n",
       "      <td>87.25</td>\n",
       "      <td>85.0</td>\n",
       "      <td>2.217356</td>\n",
       "    </tr>\n",
       "  </tbody>\n",
       "</table>\n",
       "</div>"
      ],
      "text/plain": [
       "                      final_grade                                           \\\n",
       "                              25%   50%   75% count   max       mean   min   \n",
       "avg_study_hours_group                                                        \n",
       "0                           65.00  68.0  70.0   3.0  72.0  67.333333  62.0   \n",
       "1                           79.00  80.0  82.5   3.0  85.0  81.000000  78.0   \n",
       "2                           87.75  89.0  90.5   4.0  92.0  89.250000  87.0   \n",
       "\n",
       "                                previous_grade                                 \\\n",
       "                            std            25%   50%   75% count   max   mean   \n",
       "avg_study_hours_group                                                           \n",
       "0                      5.033223          62.50  65.0  67.5   3.0  70.0  65.00   \n",
       "1                      3.605551          77.50  78.0  80.0   3.0  82.0  79.00   \n",
       "2                      2.217356          85.75  87.0  88.5   4.0  90.0  87.25   \n",
       "\n",
       "                                       \n",
       "                        min       std  \n",
       "avg_study_hours_group                  \n",
       "0                      60.0  5.000000  \n",
       "1                      77.0  2.645751  \n",
       "2                      85.0  2.217356  "
      ]
     },
     "execution_count": 42,
     "metadata": {},
     "output_type": "execute_result"
    }
   ],
   "source": [
    "df.pivot_table( index= 'avg_study_hours_group', values = ['previous_grade', 'final_grade'], aggfunc = 'describe')"
   ]
  },
  {
   "cell_type": "code",
   "execution_count": 43,
   "id": "6e4eb635-b470-4f44-bb2b-7eba5a7ab2c5",
   "metadata": {},
   "outputs": [
    {
     "data": {
      "text/plain": [
       "0.940048693251116"
      ]
     },
     "execution_count": 43,
     "metadata": {},
     "output_type": "execute_result"
    }
   ],
   "source": [
    "df['final_grade'].corr(df['avg_study_hours_group'])"
   ]
  },
  {
   "cell_type": "markdown",
   "id": "fff3f539-edff-4881-9ac3-9e1bd8e28725",
   "metadata": {
    "jp-MarkdownHeadingCollapsed": true
   },
   "source": [
    "Необходимо отметить прямую корреляцию между средним количеством академических часов в неделю и уровнем успеваемости учеников,\n",
    "чем больше школьнмк присутствует на занятиях, тем выше его оценки"
   ]
  },
  {
   "cell_type": "code",
   "execution_count": 45,
   "id": "88da253a-ca6d-4e44-88dc-03678f023cd7",
   "metadata": {},
   "outputs": [
    {
     "data": {
      "text/html": [
       "<div>\n",
       "<style scoped>\n",
       "    .dataframe tbody tr th:only-of-type {\n",
       "        vertical-align: middle;\n",
       "    }\n",
       "\n",
       "    .dataframe tbody tr th {\n",
       "        vertical-align: top;\n",
       "    }\n",
       "\n",
       "    .dataframe thead tr th {\n",
       "        text-align: left;\n",
       "    }\n",
       "\n",
       "    .dataframe thead tr:last-of-type th {\n",
       "        text-align: right;\n",
       "    }\n",
       "</style>\n",
       "<table border=\"1\" class=\"dataframe\">\n",
       "  <thead>\n",
       "    <tr>\n",
       "      <th></th>\n",
       "      <th>mean</th>\n",
       "      <th>median</th>\n",
       "    </tr>\n",
       "    <tr>\n",
       "      <th></th>\n",
       "      <th>final_grade</th>\n",
       "      <th>final_grade</th>\n",
       "    </tr>\n",
       "    <tr>\n",
       "      <th>avg_study_hours_group</th>\n",
       "      <th></th>\n",
       "      <th></th>\n",
       "    </tr>\n",
       "  </thead>\n",
       "  <tbody>\n",
       "    <tr>\n",
       "      <th>0</th>\n",
       "      <td>67.333333</td>\n",
       "      <td>68.0</td>\n",
       "    </tr>\n",
       "    <tr>\n",
       "      <th>1</th>\n",
       "      <td>81.000000</td>\n",
       "      <td>80.0</td>\n",
       "    </tr>\n",
       "    <tr>\n",
       "      <th>2</th>\n",
       "      <td>89.250000</td>\n",
       "      <td>89.0</td>\n",
       "    </tr>\n",
       "  </tbody>\n",
       "</table>\n",
       "</div>"
      ],
      "text/plain": [
       "                             mean      median\n",
       "                      final_grade final_grade\n",
       "avg_study_hours_group                        \n",
       "0                       67.333333        68.0\n",
       "1                       81.000000        80.0\n",
       "2                       89.250000        89.0"
      ]
     },
     "execution_count": 45,
     "metadata": {},
     "output_type": "execute_result"
    }
   ],
   "source": [
    "df.pivot_table(index = 'avg_study_hours_group', values = 'final_grade', aggfunc = ['mean', 'median'])"
   ]
  },
  {
   "cell_type": "markdown",
   "id": "277ec15f-f89a-472b-b2d6-2465731e7793",
   "metadata": {},
   "source": [
    "## Выводы"
   ]
  },
  {
   "cell_type": "markdown",
   "id": "d093068c-8238-4b2a-9797-e27cbc968674",
   "metadata": {},
   "source": [
    "\n",
    "В ходе изучения выборки из 10 разнополых учеников школы, представленных в равных долях, было выявлено:\n",
    "1. Корреляция предыдущей и финальной оценки показывает рост успеваемости;\n",
    "2. В представленной группе средний балл выше у девочек, но при том мальчики показывают наивысший и наименьший баллы;\n",
    "3. Внеклассовые мероприятия незначительно популярнее среди девочек;\n",
    "4. Родительская поддержка необходима реебенку для успешной учебы, однако результаты детей со средним и высоким уровнем родительсокй поддержки \n",
    "не столь значительно различаются;\n",
    "5. Есть прямая зависимость между количеством посещаемых академических занятий в неделю и уровнем успеваемости учащегося, дети, которые\n",
    "бльше посещают занятия, имеют более высокй балл.\n"
   ]
  }
 ],
 "metadata": {
  "kernelspec": {
   "display_name": "Python 3 (ipykernel)",
   "language": "python",
   "name": "python3"
  },
  "language_info": {
   "codemirror_mode": {
    "name": "ipython",
    "version": 3
   },
   "file_extension": ".py",
   "mimetype": "text/x-python",
   "name": "python",
   "nbconvert_exporter": "python",
   "pygments_lexer": "ipython3",
   "version": "3.12.4"
  }
 },
 "nbformat": 4,
 "nbformat_minor": 5
}
